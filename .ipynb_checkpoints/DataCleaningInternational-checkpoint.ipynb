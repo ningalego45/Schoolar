{
 "cells": [
  {
   "cell_type": "code",
   "execution_count": 1,
   "id": "93dc7f00-f296-4e67-9986-56b68f42912e",
   "metadata": {},
   "outputs": [
    {
     "name": "stdout",
     "output_type": "stream",
     "text": [
      "Missing Values Before Processing:\n",
      " Scholarship Name       0\n",
      "Deadline            1544\n",
      "Amount                 0\n",
      "Description          473\n",
      "Location               0\n",
      "Years                  0\n",
      "Link                   0\n",
      "dtype: int64\n",
      "\n",
      "Missing Values After Processing:\n",
      " Scholarship Name    0\n",
      "Deadline            0\n",
      "Amount              0\n",
      "Description         0\n",
      "Location            0\n",
      "Years               0\n",
      "Link                0\n",
      "dtype: int64\n"
     ]
    },
    {
     "name": "stderr",
     "output_type": "stream",
     "text": [
      "C:\\Users\\arman\\AppData\\Local\\Temp\\ipykernel_13320\\230117758.py:11: UserWarning: Could not infer format, so each element will be parsed individually, falling back to `dateutil`. To ensure parsing is consistent and as-expected, please specify a format.\n",
      "  df[\"Deadline\"] = pd.to_datetime(df[\"Deadline\"], errors=\"coerce\")\n",
      "C:\\Users\\arman\\AppData\\Local\\Temp\\ipykernel_13320\\230117758.py:20: FutureWarning: A value is trying to be set on a copy of a DataFrame or Series through chained assignment using an inplace method.\n",
      "The behavior will change in pandas 3.0. This inplace method will never work because the intermediate object on which we are setting values always behaves as a copy.\n",
      "\n",
      "For example, when doing 'df[col].method(value, inplace=True)', try using 'df.method({col: value}, inplace=True)' or df[col] = df[col].method(value) instead, to perform the operation inplace on the original object.\n",
      "\n",
      "\n",
      "  df[\"Description\"].fillna(\"Description not available\", inplace=True)\n",
      "C:\\Users\\arman\\AppData\\Local\\Temp\\ipykernel_13320\\230117758.py:21: FutureWarning: A value is trying to be set on a copy of a DataFrame or Series through chained assignment using an inplace method.\n",
      "The behavior will change in pandas 3.0. This inplace method will never work because the intermediate object on which we are setting values always behaves as a copy.\n",
      "\n",
      "For example, when doing 'df[col].method(value, inplace=True)', try using 'df.method({col: value}, inplace=True)' or df[col] = df[col].method(value) instead, to perform the operation inplace on the original object.\n",
      "\n",
      "\n",
      "  df[\"Deadline\"].fillna(\"Unknown deadline\", inplace=True)  # Keep as a string for clarity\n",
      "C:\\Users\\arman\\AppData\\Local\\Temp\\ipykernel_13320\\230117758.py:21: FutureWarning: Setting an item of incompatible dtype is deprecated and will raise an error in a future version of pandas. Value 'Unknown deadline' has dtype incompatible with datetime64[ns], please explicitly cast to a compatible dtype first.\n",
      "  df[\"Deadline\"].fillna(\"Unknown deadline\", inplace=True)  # Keep as a string for clarity\n",
      "C:\\Users\\arman\\AppData\\Local\\Temp\\ipykernel_13320\\230117758.py:22: FutureWarning: A value is trying to be set on a copy of a DataFrame or Series through chained assignment using an inplace method.\n",
      "The behavior will change in pandas 3.0. This inplace method will never work because the intermediate object on which we are setting values always behaves as a copy.\n",
      "\n",
      "For example, when doing 'df[col].method(value, inplace=True)', try using 'df.method({col: value}, inplace=True)' or df[col] = df[col].method(value) instead, to perform the operation inplace on the original object.\n",
      "\n",
      "\n",
      "  df[\"Amount\"].fillna(df[\"Amount\"].median(), inplace=True)  # Use median value for missing amounts\n"
     ]
    }
   ],
   "source": [
    "import pandas as pd\n",
    "import numpy as np\n",
    "\n",
    "# Read the CSV file\n",
    "df = pd.read_csv(\"international_scholarships.csv\")\n",
    "\n",
    "# Check for null values before processing\n",
    "print(\"Missing Values Before Processing:\\n\", df.isnull().sum())\n",
    "\n",
    "# Convert 'Deadline' to datetime format (NaT for invalid entries)\n",
    "df[\"Deadline\"] = pd.to_datetime(df[\"Deadline\"], errors=\"coerce\")\n",
    "\n",
    "# Convert 'Amount' to numeric\n",
    "df[\"Amount\"] = pd.to_numeric(df[\"Amount\"], errors=\"coerce\")\n",
    "\n",
    "# Convert 'Years' to list format\n",
    "df[\"Years\"] = df[\"Years\"].apply(lambda x: x.split(\", \") if isinstance(x, str) else [])\n",
    "\n",
    "# Fill missing values with default placeholders\n",
    "df[\"Description\"].fillna(\"Description not available\", inplace=True)\n",
    "df[\"Deadline\"].fillna(\"Unknown deadline\", inplace=True)  # Keep as a string for clarity\n",
    "\n",
    "\n",
    "# Re-check for null values after processing\n",
    "print(\"\\nMissing Values After Processing:\\n\", df.isnull().sum())\n",
    "\n"
   ]
  },
  {
   "cell_type": "code",
   "execution_count": null,
   "id": "0055cd02-f1a5-4702-9801-b73b07fa4bc2",
   "metadata": {},
   "outputs": [],
   "source": []
  }
 ],
 "metadata": {
  "kernelspec": {
   "display_name": "Python 3 (ipykernel)",
   "language": "python",
   "name": "python3"
  },
  "language_info": {
   "codemirror_mode": {
    "name": "ipython",
    "version": 3
   },
   "file_extension": ".py",
   "mimetype": "text/x-python",
   "name": "python",
   "nbconvert_exporter": "python",
   "pygments_lexer": "ipython3",
   "version": "3.12.7"
  }
 },
 "nbformat": 4,
 "nbformat_minor": 5
}
